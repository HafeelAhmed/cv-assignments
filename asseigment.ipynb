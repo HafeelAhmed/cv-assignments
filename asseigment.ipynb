{
 "cells": [
  {
   "cell_type": "code",
   "execution_count": 5,
   "id": "9b3560e0",
   "metadata": {},
   "outputs": [],
   "source": [
    "import cv2 as c\n"
   ]
  },
  {
   "cell_type": "code",
   "execution_count": 51,
   "id": "f0f75436",
   "metadata": {},
   "outputs": [],
   "source": [
    "image = c.resize(c.imread('noisy.png'),(800,800))"
   ]
  },
  {
   "cell_type": "code",
   "execution_count": 60,
   "id": "1651f9d2",
   "metadata": {},
   "outputs": [],
   "source": [
    "c.imshow(\"before\",image)\n",
    "c.waitKey(0)\n",
    "c.destroyAllWindows()"
   ]
  },
  {
   "cell_type": "code",
   "execution_count": 53,
   "id": "741ebbe9",
   "metadata": {},
   "outputs": [],
   "source": [
    "clear = c.bilateralFilter(image,27,60,60)"
   ]
  },
  {
   "cell_type": "code",
   "execution_count": 61,
   "id": "7f404b85",
   "metadata": {},
   "outputs": [],
   "source": [
    "c.imshow(\"after\",clear)\n",
    "c.waitKey(0)\n",
    "c.destroyAllWindows()"
   ]
  },
  {
   "cell_type": "code",
   "execution_count": 59,
   "id": "a06ab311",
   "metadata": {
    "scrolled": true
   },
   "outputs": [
    {
     "data": {
      "text/plain": [
       "True"
      ]
     },
     "execution_count": 59,
     "metadata": {},
     "output_type": "execute_result"
    }
   ],
   "source": [
    "c.imwrite(\"clear image.png\",clear)"
   ]
  },
  {
   "cell_type": "code",
   "execution_count": 55,
   "id": "14ef0390",
   "metadata": {},
   "outputs": [],
   "source": [
    "c.imshow(\"before\",image)\n",
    "c.imshow(\"after\",clear)\n",
    "c.waitKey(0)\n",
    "c.destroyAllWindows()"
   ]
  },
  {
   "cell_type": "code",
   "execution_count": 56,
   "id": "9db2d530",
   "metadata": {},
   "outputs": [],
   "source": [
    "concated = c.hconcat([image,clear])"
   ]
  },
  {
   "cell_type": "markdown",
   "id": "9591b95d",
   "metadata": {},
   "source": [
    "### final out"
   ]
  },
  {
   "cell_type": "code",
   "execution_count": 62,
   "id": "9986b14c",
   "metadata": {},
   "outputs": [],
   "source": [
    "c.imshow(\"after\",concated)\n",
    "c.waitKey(0)\n",
    "c.destroyAllWindows()"
   ]
  }
 ],
 "metadata": {
  "kernelspec": {
   "display_name": "Python 3 (ipykernel)",
   "language": "python",
   "name": "python3"
  },
  "language_info": {
   "codemirror_mode": {
    "name": "ipython",
    "version": 3
   },
   "file_extension": ".py",
   "mimetype": "text/x-python",
   "name": "python",
   "nbconvert_exporter": "python",
   "pygments_lexer": "ipython3",
   "version": "3.9.13"
  }
 },
 "nbformat": 4,
 "nbformat_minor": 5
}
